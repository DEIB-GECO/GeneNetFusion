{
 "cells": [
  {
   "cell_type": "code",
   "execution_count": 1,
   "metadata": {},
   "outputs": [],
   "source": [
    "import pandas as pd\n",
    "import networkx as nx\n",
    "import warnings\n",
    "warnings.filterwarnings('ignore')\n",
    "\n",
    "\n",
    "import preprocessing as pp\n",
    "import creation_matrices as cm\n",
    "import fusion_networks as fn\n",
    "import extraction_classification as ec\n",
    "import matplotlib as plt\n",
    "import numpy as np\n",
    "from matplotlib.ticker import FormatStrFormatter\n"
   ]
  },
  {
   "cell_type": "code",
   "execution_count": 2,
   "metadata": {},
   "outputs": [],
   "source": [
    "#Names used to load and save data\n",
    "#Example cancer type used: lihc\n",
    "tumor = 'lihc'\n",
    "m_norm = 'mirna_norm_'+str(tumor)\n",
    "m_canc = 'mirna_canc_'+str(tumor)\n",
    "g_norm = 'gene_norm_'+str(tumor)\n",
    "g_canc = 'gene_canc_'+str(tumor)"
   ]
  },
  {
   "cell_type": "markdown",
   "metadata": {},
   "source": [
    "# Importing and saving data "
   ]
  },
  {
   "cell_type": "code",
   "execution_count": null,
   "metadata": {},
   "outputs": [],
   "source": [
    "#The first time we import the data extracted from gmql and we build matrices with genes in the rows and patients in the columns\n",
    "#We save them into a folder Datasets_created\n",
    "import gmql as gl\n",
    "\n",
    "\n",
    "def import_data(m_canc,m_norm,g_canc,g_norm):\n",
    "    #Import datasets and Create matrices using normalized counts\n",
    "    mir_canc= gl.load_from_path(local_path='./Datasets/'+str(m_canc))\n",
    "    mir_canc = mir_canc.materialize('./Datasets_created/'+str(m_canc), all_load=True)\n",
    "    mir_cancer= mir_canc.to_matrix(index_regs=[\"mirna_id\", 'gene_symbol'], columns_meta=[\"biospecimen__bio__bcr_analyte_barcode\"],values_regs=[\"reads_per_million_mirna_mapped\"],  fill_value=0)\n",
    "    #Create matrix of lenghts of mirna genes\n",
    "    miRNACancerlength=mir_canc.to_matrix(index_regs=['mirna_id', 'gene_symbol'], values_regs=['start','stop'])\n",
    "    del(mir_canc)\n",
    "    \n",
    "    mir_norm= gl.load_from_path(local_path='./Datasets/'+str(m_norm))\n",
    "    mir_norm = mir_norm.materialize('./Datasets_created/'+str(m_norm), all_load=True)\n",
    "    mir_normal= mir_norm.to_matrix(index_regs=[\"mirna_id\", 'gene_symbol'], columns_meta=['biospecimen__bio__bcr_analyte_barcode'],values_regs=[\"reads_per_million_mirna_mapped\"],fill_value=0)\n",
    "    miRNANormallength=mir_norm.to_matrix(index_regs=['mirna_id', 'gene_symbol'], values_regs=['start','stop'])\n",
    "    del(mir_norm)\n",
    "    \n",
    "    gene_canc= gl.load_from_path(local_path='./Datasets/'+str(g_canc))\n",
    "    gene_canc= gene_canc.materialize('./Datasets_created/'+str(g_canc), all_load=True)\n",
    "    gene_cancer= gene_canc.to_matrix(index_regs=['ensembl_gene_id','gene_symbol'], columns_meta=[\"biospecimen__bio__bcr_analyte_barcode\"],values_regs=[\"fpkm\"])\n",
    "    del(gene_canc)\n",
    "    \n",
    "    gene_norm= gl.load_from_path(local_path='./Datasets/'+str(g_norm))\n",
    "    gene_norm = gene_norm.materialize('./Datasets_created/'+str(g_norm), all_load=True)\n",
    "    gene_normal= gene_norm.to_matrix(index_regs=['ensembl_gene_id','gene_symbol'], columns_meta=[\"biospecimen__bio__bcr_analyte_barcode\"],values_regs=[\"fpkm\"])\n",
    "    del(gene_norm)\n",
    "    \n",
    "    #Save the matrices with gene types\n",
    "    mir_cancer.to_csv('./Matrices/'+str(m_canc))\n",
    "    mir_normal.to_csv('./Matrices/'+str(m_norm))\n",
    "    gene_cancer.to_csv('./Matrices/'+str(g_canc))\n",
    "    gene_normal.to_csv('./Matrices/'+str(g_norm))\n",
    "    miRNACancerlength.to_csv('./Matrices/'+str(m_canc)+'length')\n",
    "    miRNANormallength.to_csv('./Matrices/'+str(m_norm)+'length')\n",
    "    return mir_cancer, miRNACancerlength, mir_normal, miRNANormallength, gene_cancer, gene_normal"
   ]
  },
  {
   "cell_type": "code",
   "execution_count": null,
   "metadata": {},
   "outputs": [],
   "source": [
    "mir_canc, mir_canc_length, mir_norm, mir_norm_length, gene_canc, gene_norm = import_data(m_canc, m_norm,g_canc, g_norm)"
   ]
  },
  {
   "cell_type": "markdown",
   "metadata": {},
   "source": [
    "# Upload matrices"
   ]
  },
  {
   "cell_type": "code",
   "execution_count": 3,
   "metadata": {},
   "outputs": [],
   "source": [
    "#We upload the saved matrices\n",
    "mir_canc = pd.read_csv('./Matrices/'+str(m_canc), index_col=[0,1], header=[0,1], skiprows=0)\n",
    "mir_canc_length = pd.read_csv('./Matrices/'+str(m_canc)+'length', index_col=[0,1],header=[0,1], skiprows=0)\n",
    "mir_norm = pd.read_csv('./Matrices/'+str(m_norm), index_col=[0,1], header=[0,1], skiprows=0)\n",
    "mir_norm_length = pd.read_csv('./Matrices/'+str(m_norm)+'length', index_col=[0,1], header=[0,1], skiprows=0)\n",
    "gene_canc = pd.read_csv('./Matrices/'+str(g_canc), index_col=[0,1], header=[0,1], skiprows=0)\n",
    "gene_norm = pd.read_csv('./Matrices/'+str(g_norm), index_col=[0,1], header=[0,1], skiprows=0)\n"
   ]
  },
  {
   "cell_type": "markdown",
   "metadata": {},
   "source": [
    "# Pre-processing"
   ]
  },
  {
   "cell_type": "code",
   "execution_count": null,
   "metadata": {
    "pycharm": {
     "name": "#%%\n"
    }
   },
   "outputs": [],
   "source": [
    "#We pre-process the data to obtain the normal and cancer matrix\n",
    "#All details of preprocessing are explained in preprocessing.py script\n",
    "preprocessed = pp.Preprocessing(mir_canc, mir_canc_length, mir_norm, mir_norm_length, gene_canc, gene_norm, tumor)\n",
    "normal = preprocessed.Normal\n",
    "cancer = preprocessed.Cancer\n",
    "indices = preprocessed.Indices"
   ]
  },
  {
   "cell_type": "markdown",
   "metadata": {},
   "source": [
    "# Creation of the networks"
   ]
  },
  {
   "cell_type": "code",
   "execution_count": null,
   "metadata": {
    "pycharm": {
     "name": "#%%\n"
    }
   },
   "outputs": [],
   "source": [
    "#We create the two networks that are the sum of Euclidean and Pearson matrices\n",
    "#All details of the construction are explained in creation_matrices.py script\n",
    "normal_perc = [75,74,73,70,65,64.5,63,62,60,58,57,55,54,53,50]\n",
    "cancer_perc = [65,64.5,63,62,60,58,57,55,54,53,50,44.5,40,35,30]\n",
    "matrices = cm.Net(normal, cancer, indices, tumor, normal_perc, cancer_perc)\n",
    "n_sum = matrices.n_sum\n",
    "c_sum = matrices.c_sum"
   ]
  },
  {
   "cell_type": "markdown",
   "metadata": {},
   "source": [
    "# Fusion of the summed networks"
   ]
  },
  {
   "cell_type": "code",
   "execution_count": null,
   "metadata": {
    "pycharm": {
     "name": "#%%\n"
    }
   },
   "outputs": [],
   "source": [
    "#All details of the fusion are explained in fusion_networks.py script\n",
    "fused = fn.fusion_snf(n_sum, c_sum, str(tumor))\n",
    "fused_thr = fused.fused_thr"
   ]
  },
  {
   "cell_type": "markdown",
   "metadata": {},
   "source": [
    "# Construction of the graph for the Gephi software"
   ]
  },
  {
   "cell_type": "code",
   "execution_count": 13,
   "metadata": {},
   "outputs": [],
   "source": [
    "#We build the graph using networkx and we save it in Gephi format\n",
    "graph = nx.from_numpy_array(fused_thr)\n",
    "nx.write_gexf(graph,'./Graphs/graph_'+str(tumor)+'.gexf')"
   ]
  },
  {
   "cell_type": "markdown",
   "metadata": {},
   "source": [
    "# After extraction of communities with Gephi"
   ]
  },
  {
   "cell_type": "code",
   "execution_count": 14,
   "metadata": {},
   "outputs": [],
   "source": [
    "#After having saved the communities with gephi and having saved the indices of them\n",
    "#We extract the ensembl and the relative expressions\n",
    "communities = pd.read_csv('./Extracted/comm_'+str(tumor)+'.csv', sep=',')\n",
    "communities_genes = normal.index[communities['Id']]\n",
    "pd.DataFrame(communities_genes).to_csv('./Extracted/genes_comm_'+str(tumor)+'.csv')"
   ]
  },
  {
   "cell_type": "code",
   "execution_count": 15,
   "metadata": {},
   "outputs": [],
   "source": [
    "comm_genes_norm=pd.DataFrame(index=communities_genes, columns=normal.columns)\n",
    "comm_genes_canc=pd.DataFrame(index=communities_genes, columns=cancer.columns)"
   ]
  },
  {
   "cell_type": "code",
   "execution_count": 19,
   "metadata": {},
   "outputs": [],
   "source": [
    "def extract_communities(A, A_norm, A_canc, N, C):\n",
    "    for i in N.index:\n",
    "        for j in A:\n",
    "            if i==j:\n",
    "                A_norm[A_norm.index==j]=(N[N.index==i].get_values())\n",
    "     \n",
    "    for i in C.index:\n",
    "        for j in A:\n",
    "            if i==j:\n",
    "                A_canc[A_canc.index==j]=(C[C.index==i].get_values())\n",
    "                \n",
    "    return A_norm, A_canc\n",
    "\n",
    "comm_genes_norm, comm_genes_canc = extract_communities(communities_genes, comm_genes_norm, comm_genes_canc, normal, cancer)\n",
    "comm_genes_norm.to_csv('./Extracted/exp_comm_norm'+str(tumor)+'.csv')\n",
    "comm_genes_canc.to_csv('./Extracted/exp_comm_canc'+str(tumor)+'.csv')"
   ]
  },
  {
   "cell_type": "code",
   "execution_count": 8,
   "metadata": {},
   "outputs": [],
   "source": [
    "#We load the expressions of DE genes found with t-test statistic\n",
    "de_norm = pd.read_csv('./Extracted/exp_de_norm'+str(tumor)+'.csv', index_col=0, header=0)\n",
    "de_canc = pd.read_csv('./Extracted/exp_de_canc'+str(tumor)+'.csv', index_col=0, header=0)"
   ]
  },
  {
   "cell_type": "code",
   "execution_count": 21,
   "metadata": {
    "pycharm": {
     "name": "#%%\n"
    }
   },
   "outputs": [
    {
     "name": "stderr",
     "output_type": "stream",
     "text": [
      "100%|██████████| 100/100 [48:49<00:00, 28.56s/it]\n"
     ]
    },
    {
     "data": {
      "image/png": "[encoded data removed]",
      "text/plain": [
       "<Figure size 720x720 with 1 Axes>"
      ]
     },
     "metadata": {
      "needs_background": "light"
     },
     "output_type": "display_data"
    },
    {
     "data": {
      "image/png": "[encoded data removed]",
      "text/plain": [
       "<Figure size 720x720 with 1 Axes>"
      ]
     },
     "metadata": {
      "needs_background": "light"
     },
     "output_type": "display_data"
    },
    {
     "data": {
      "image/png": "[encoded data removed]",
      "text/plain": [
       "<Figure size 720x720 with 1 Axes>"
      ]
     },
     "metadata": {
      "needs_background": "light"
     },
     "output_type": "display_data"
    }
   ],
   "source": [
    "#We compute the computational validation of the genes extracted (integrated communities genes (IC), DE and Random)\n",
    "#All details are in extraction_classification.py script\n",
    "rf = ec.RF(normal, cancer, comm_genes_norm, comm_genes_canc, de_norm, de_canc, str(tumor))"
   ]
  },
  {
   "cell_type": "code",
   "execution_count": null,
   "metadata": {
    "pycharm": {
     "name": "#%%\n"
    }
   },
   "outputs": [],
   "source": [
    "#Boxplots of the classification performances \n",
    "K=pd.read_csv('./Auc_acc_f1/auc_acc_f1_IC_'+str(tumor)+'.csv', index_col=0)\n",
    "X=pd.read_csv('./Auc_acc_f1/auc_acc_f1_DE_'+str(tumor)+'.csv', index_col=0)\n",
    "Y=pd.read_csv('./Auc_acc_f1/auc_acc_f1_random_'+str(tumor)+'.csv', index_col=0)\n",
    "\n",
    "name_k='$IC_L$'\n",
    "name_x='$DE_L$'\n",
    "name_y='$Rand_L$'\n",
    "\n",
    "what='accuracy'\n",
    "fig, ax = plt.subplots(figsize=(10,10))\n",
    "bp0 = ax.boxplot(K[what].values, positions=[0.1], \n",
    "                 patch_artist=True, boxprops=dict(facecolor=\"C3\"))\n",
    "for element in ['boxes', 'whiskers', 'fliers', 'means', 'medians', 'caps']:\n",
    "        plt.setp(bp0[element], color='black')\n",
    "for patch in bp0['boxes']:\n",
    "        patch.set(facecolor='dimgrey')\n",
    "bp1 = ax.boxplot(X[what].values, positions=[0.3], \n",
    "                 patch_artist=True, boxprops=dict(facecolor=\"C3\"))\n",
    "for element in ['boxes', 'whiskers', 'fliers', 'means', 'medians', 'caps']:\n",
    "        plt.setp(bp1[element], color='black')\n",
    "for patch in bp1['boxes']:\n",
    "        patch.set(facecolor='grey')\n",
    "bp2 = ax.boxplot(Y[what].values, positions=[0.5],\n",
    "                 patch_artist=True, boxprops=dict(facecolor=\"C6\"))\n",
    "for element in ['boxes', 'whiskers', 'fliers', 'means', 'medians', 'caps']:\n",
    "        plt.setp(bp2[element], color='black')\n",
    "for patch in bp2['boxes']:\n",
    "        patch.set(facecolor='darkgrey')  \n",
    "ax.set_xlim(0,0.6)\n",
    "ax.set_title('Accuracy', fontsize=24)\n",
    "ax.yaxis.grid(True, linestyle='-', which='major', color='grey', alpha=0.5)\n",
    "plt.xticks([0.1,0.3,0.5],[str(name_k),str(name_x), str(name_y)], fontsize=20)\n",
    "plt.yticks(np.arange(0.985,1, step=0.005),fontsize=24)\n",
    "plt.savefig('./Boxplot_RF/boxplot_'+str(what)+'lasso_IC_DE_Random_'+str(tumor)+'.png', format='png',bbox_inches='tight',dpi=600)  \n",
    "\n",
    "what='auc'\n",
    "fig, ax = plt.subplots(figsize=(10,10))\n",
    "bp0 = ax.boxplot(K[what].values, positions=[0.1], \n",
    "                 patch_artist=True, boxprops=dict(facecolor=\"C3\"))\n",
    "for element in ['boxes', 'whiskers', 'fliers', 'means', 'medians', 'caps']:\n",
    "        plt.setp(bp0[element], color='black')\n",
    "for patch in bp0['boxes']:\n",
    "        patch.set(facecolor='dimgrey')\n",
    "bp1 = ax.boxplot(X[what].values, positions=[0.3], \n",
    "                 patch_artist=True, boxprops=dict(facecolor=\"C3\"))\n",
    "for element in ['boxes', 'whiskers', 'fliers', 'means', 'medians', 'caps']:\n",
    "        plt.setp(bp1[element], color='black')\n",
    "for patch in bp1['boxes']:\n",
    "        patch.set(facecolor='grey')\n",
    "bp2 = ax.boxplot(Y[what].values, positions=[0.5],\n",
    "                 patch_artist=True, boxprops=dict(facecolor=\"C6\"))\n",
    "for element in ['boxes', 'whiskers', 'fliers', 'means', 'medians', 'caps']:\n",
    "        plt.setp(bp2[element], color='black')\n",
    "for patch in bp2['boxes']:\n",
    "        patch.set(facecolor='darkgrey') \n",
    "#ax.legend([ bp2[\"boxes\"][0], bp1['boxes'][0]], ['N2V_all', 'Random'], loc='upper right')\n",
    "ax.set_xlim(0,0.6)\n",
    "ax.set_title('AUC', fontsize=24)\n",
    "ax.yaxis.grid(True, linestyle='-', which='major', color='grey', alpha=0.5)\n",
    "plt.xticks([0.1,0.3,0.5],[str(name_k),str(name_x), str(name_y)], fontsize=20)\n",
    "plt.yticks(np.arange(0.990,1, step=0.005),fontsize=24)\n",
    "plt.savefig('./Try/Boxplot_RF/boxplot_'+str(what)+'lasso_IC_DE_Random_'+str(tumor)+'.png', format='png',bbox_inches='tight',dpi=600)  \n",
    "\n",
    "what='f1'\n",
    "fig, ax = plt.subplots(figsize=(10,10))\n",
    "bp0 = ax.boxplot(K[what].values, positions=[0.1], \n",
    "                 patch_artist=True, boxprops=dict(facecolor=\"C3\"))\n",
    "for element in ['boxes', 'whiskers', 'fliers', 'means', 'medians', 'caps']:\n",
    "        plt.setp(bp0[element], color='black')\n",
    "for patch in bp0['boxes']:\n",
    "        patch.set(facecolor='dimgrey')\n",
    "bp1 = ax.boxplot(X[what+str('_rand')].values, positions=[0.3], \n",
    "                 patch_artist=True, boxprops=dict(facecolor=\"C3\"))\n",
    "for element in ['boxes', 'whiskers', 'fliers', 'means', 'medians', 'caps']:\n",
    "        plt.setp(bp1[element], color='black')\n",
    "for patch in bp1['boxes']:\n",
    "        patch.set(facecolor='grey')\n",
    "bp2 = ax.boxplot(Y[what+str('_rand')].values, positions=[0.5],\n",
    "                 patch_artist=True, boxprops=dict(facecolor=\"C6\"))\n",
    "for element in ['boxes', 'whiskers', 'fliers', 'means', 'medians', 'caps']:\n",
    "        plt.setp(bp2[element], color='black')\n",
    "for patch in bp2['boxes']:\n",
    "        patch.set(facecolor='darkgrey')\n",
    "ax.set_xlim(0,0.6)\n",
    "\n",
    "ax.set_title('F1 score', fontsize=24)\n",
    "ax.yaxis.grid(True, linestyle='-', which='major', color='grey', alpha=0.5)\n",
    "plt.xticks([0.1,0.3,0.5],[str(name_k),str(name_x), str(name_y)], fontsize=20)\n",
    "plt.yticks(np.arange(0.945,0.99, step=0.01),fontsize=24)\n",
    "ax.yaxis.set_major_formatter(FormatStrFormatter('%.3f'))\n",
    "plt.savefig('./Try/Boxplot_RF/boxplot_'+str(what)+'lasso_IC_DE_Random_'+str(tumor)+'.png', format='png',bbox_inches='tight',dpi=600)  \n",
    "\n",
    "\n",
    "\n"
   ]
  }
 ],
 "metadata": {
  "kernelspec": {
   "display_name": "Python (pygmql)",
   "language": "python",
   "name": "pygmql"
  },
  "language_info": {
   "codemirror_mode": {
    "name": "ipython",
    "version": 3
   },
   "file_extension": ".py",
   "mimetype": "text/x-python",
   "name": "python",
   "nbconvert_exporter": "python",
   "pygments_lexer": "ipython3",
   "version": "3.7.3"
  },
  "pycharm": {
   "stem_cell": {
    "cell_type": "raw",
    "metadata": {
     "collapsed": false
    },
    "source": []
   }
  }
 },
 "nbformat": 4,
 "nbformat_minor": 2
}
